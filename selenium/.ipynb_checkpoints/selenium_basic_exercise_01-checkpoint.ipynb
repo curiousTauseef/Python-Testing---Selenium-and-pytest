{
 "cells": [
  {
   "cell_type": "code",
   "execution_count": 2,
   "metadata": {},
   "outputs": [],
   "source": [
    "# A headless browser is just a regular web browser, except that it contains no visible UI element. \n",
    "# Just like you’d expect, it can do more than make requests: it can also render HTML (though you cannot see it), \n",
    "# keep session information, and even perform asynchronous network communications by running JavaScript code."
   ]
  },
  {
   "cell_type": "markdown",
   "metadata": {},
   "source": [
    "### Test Driving a Headless Browser"
   ]
  },
  {
   "cell_type": "code",
   "execution_count": 40,
   "metadata": {},
   "outputs": [],
   "source": [
    "from selenium import webdriver\n",
    "path = \"C:\\chromedriver_win32\\chromedriver.exe\" # set your path to chromedriver.exe\n",
    "browser=webdriver.Chrome(path)\n",
    "browser.get(\"https://duckduckgo.com\")\n",
    "#driver.close()\n",
    "#driver.quit()\n"
   ]
  },
  {
   "cell_type": "code",
   "execution_count": 41,
   "metadata": {},
   "outputs": [],
   "source": [
    "search_form = browser.find_element_by_id('search_form_input_homepage')\n",
    "search_form.send_keys('real python') # send_keys method to fill it out the form\n",
    "search_form.submit() #  then the submit method to perform your search for \"Real Python\""
   ]
  },
  {
   "cell_type": "code",
   "execution_count": 42,
   "metadata": {},
   "outputs": [
    {
     "name": "stdout",
     "output_type": "stream",
     "text": [
      "RealPython.com (@RealPython) | Twitter\n",
      "Python's list comprehensions are awesome! ... Tutorial on using regular expressions to help you deal with a real-world data science problem https: ...\n",
      "https://twitter.com/RealPython\n"
     ]
    }
   ],
   "source": [
    "results = browser.find_elements_by_class_name('result')\n",
    "print(results[10].text)"
   ]
  },
  {
   "cell_type": "markdown",
   "metadata": {},
   "source": [
    "In order to prevent invisible headless browser instances from piling up on your machine, you close the browser object before exiting your python session:"
   ]
  },
  {
   "cell_type": "code",
   "execution_count": 43,
   "metadata": {},
   "outputs": [],
   "source": [
    "browser.close()\n",
    "quit()"
   ]
  }
 ],
 "metadata": {
  "kernelspec": {
   "display_name": "Python 3",
   "language": "python",
   "name": "python3"
  },
  "language_info": {
   "codemirror_mode": {
    "name": "ipython",
    "version": 3
   },
   "file_extension": ".py",
   "mimetype": "text/x-python",
   "name": "python",
   "nbconvert_exporter": "python",
   "pygments_lexer": "ipython3",
   "version": "3.6.3"
  }
 },
 "nbformat": 4,
 "nbformat_minor": 2
}
